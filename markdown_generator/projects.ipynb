{
 "cells": [
  {
   "cell_type": "markdown",
   "metadata": {
    "deletable": true,
    "editable": true
   },
   "source": [
    "# Projects markdown generator for academicpages\n",
    "\n",
    "Takes a TSV of projects with metadata and converts them for use with [academicpages.github.io](academicpages.github.io). This is an interactive Jupyter notebook ([see more info here](https://jupyter-notebook-beginner-guide.readthedocs.io/en/latest/what_is_jupyter.html)). The core python code is also in `projects.py`. Run either from the `markdown_generator` folder after replacing `projects.tsv` with one containing your data.\n",
    "\n",
    "TODO: Make this work with BibTex and other databases of citations, rather than Stuart's non-standard TSV format and citation style.\n"
   ]
  },
  {
   "cell_type": "markdown",
   "metadata": {},
   "source": [
    "## Data format\n",
    "\n",
    "The TSV needs to have the following columns: date, title, venue, excerpt, with a header at the top.\n",
    "\n",
    "- `excerpt` and `paper_url` can be blank, but the others must have values.\n",
    "- `date` must be formatted as YYYY-MM-DD."
   ]
  },
  {
   "cell_type": "code",
   "execution_count": 19,
   "metadata": {
    "collapsed": false
   },
   "outputs": [
    {
     "name": "stdout",
     "output_type": "stream",
     "text": [
      "date\ttitle\tvenue\texcerpt\n",
      "2022-07-25\tArtificial Intelligence in Modern Board Games\tOhio Wesleyan University\tDeveloped an AI opponent for the card game Lost Cities using object oriented principles in Java.\n",
      "2022-07-31\tAIParkinScan\tMITxSureStart FutureMakers Create-a-Thon Program\tCo-developed AIParkinScan software for Parkinson's diagnosis using audio and image data. Utilized neural networks, spectrograms, and Random Forest algorithm.\n",
      "2022-11-30\tConnect 4 AI\tOhio Wesleyan University\tCo-developed an AI opponent for Connect 4 using alpha-beta pruning algorithm.\n",
      "2023-04-30\tArtificial Intelligence Opinion Survey\tOhio Wesleyan University\tDesigned, fielded, and investigated a survey research of 1000 employees to analyze AI's impact on work efficiency and attitudes. Found AI improved efficiency across industries.\n"
     ]
    }
   ],
   "source": [
    "!cat projects.tsv"
   ]
  },
  {
   "cell_type": "markdown",
   "metadata": {},
   "source": [
    "## Import pandas\n",
    "\n",
    "We are using the very handy pandas library for dataframes."
   ]
  },
  {
   "cell_type": "code",
   "execution_count": 20,
   "metadata": {
    "collapsed": true,
    "deletable": true,
    "editable": true
   },
   "outputs": [],
   "source": [
    "import os\n",
    "import datetime\n",
    "import pandas as pd"
   ]
  },
  {
   "cell_type": "markdown",
   "metadata": {},
   "source": [
    "## Import TSV\n",
    "\n",
    "Pandas makes this easy with the read_csv function. We are using a TSV, so we specify the separator as a tab, or `\\t`.\n",
    "\n",
    "I found it important to put this data in a tab-separated values format, because there are a lot of commas in this kind of data and comma-separated values can get messed up. However, you can modify the import statement, as pandas also has read_excel(), read_json(), and others."
   ]
  },
  {
   "cell_type": "code",
   "execution_count": 21,
   "metadata": {
    "collapsed": false,
    "deletable": true,
    "editable": true
   },
   "outputs": [
    {
     "data": {
      "text/html": [
       "<div>\n",
       "<style scoped>\n",
       "    .dataframe tbody tr th:only-of-type {\n",
       "        vertical-align: middle;\n",
       "    }\n",
       "\n",
       "    .dataframe tbody tr th {\n",
       "        vertical-align: top;\n",
       "    }\n",
       "\n",
       "    .dataframe thead th {\n",
       "        text-align: right;\n",
       "    }\n",
       "</style>\n",
       "<table border=\"1\" class=\"dataframe\">\n",
       "  <thead>\n",
       "    <tr style=\"text-align: right;\">\n",
       "      <th></th>\n",
       "      <th>date</th>\n",
       "      <th>title</th>\n",
       "      <th>venue</th>\n",
       "      <th>excerpt</th>\n",
       "    </tr>\n",
       "  </thead>\n",
       "  <tbody>\n",
       "    <tr>\n",
       "      <th>0</th>\n",
       "      <td>2022-07-25</td>\n",
       "      <td>Artificial Intelligence in Modern Board Games</td>\n",
       "      <td>Ohio Wesleyan University</td>\n",
       "      <td>Developed an AI opponent for the card game Los...</td>\n",
       "    </tr>\n",
       "    <tr>\n",
       "      <th>1</th>\n",
       "      <td>2022-07-31</td>\n",
       "      <td>AIParkinScan</td>\n",
       "      <td>MITxSureStart FutureMakers Create-a-Thon Program</td>\n",
       "      <td>Co-developed AIParkinScan software for Parkins...</td>\n",
       "    </tr>\n",
       "    <tr>\n",
       "      <th>2</th>\n",
       "      <td>2022-11-30</td>\n",
       "      <td>Connect 4 AI</td>\n",
       "      <td>Ohio Wesleyan University</td>\n",
       "      <td>Co-developed an AI opponent for Connect 4 usin...</td>\n",
       "    </tr>\n",
       "    <tr>\n",
       "      <th>3</th>\n",
       "      <td>2023-04-30</td>\n",
       "      <td>Artificial Intelligence Opinion Survey</td>\n",
       "      <td>Ohio Wesleyan University</td>\n",
       "      <td>Designed, fielded, and investigated a survey r...</td>\n",
       "    </tr>\n",
       "  </tbody>\n",
       "</table>\n",
       "</div>"
      ],
      "text/plain": [
       "         date                                          title  \\\n",
       "0  2022-07-25  Artificial Intelligence in Modern Board Games   \n",
       "1  2022-07-31                                   AIParkinScan   \n",
       "2  2022-11-30                                   Connect 4 AI   \n",
       "3  2023-04-30         Artificial Intelligence Opinion Survey   \n",
       "\n",
       "                                              venue  \\\n",
       "0                          Ohio Wesleyan University   \n",
       "1  MITxSureStart FutureMakers Create-a-Thon Program   \n",
       "2                          Ohio Wesleyan University   \n",
       "3                          Ohio Wesleyan University   \n",
       "\n",
       "                                             excerpt  \n",
       "0  Developed an AI opponent for the card game Los...  \n",
       "1  Co-developed AIParkinScan software for Parkins...  \n",
       "2  Co-developed an AI opponent for Connect 4 usin...  \n",
       "3  Designed, fielded, and investigated a survey r...  "
      ]
     },
     "execution_count": 21,
     "metadata": {},
     "output_type": "execute_result"
    }
   ],
   "source": [
    "projects = pd.read_csv(\"projects.tsv\", sep=\"\\t\", header=0)\n",
    "projects\n"
   ]
  },
  {
   "cell_type": "markdown",
   "metadata": {},
   "source": [
    "## Escape special characters\n",
    "\n",
    "YAML is very picky about how it takes a valid string, so we are replacing single and double quotes (and ampersands) with their HTML encoded equivilents. This makes them look not so readable in raw format, but they are parsed and rendered nicely."
   ]
  },
  {
   "cell_type": "code",
   "execution_count": 22,
   "metadata": {
    "collapsed": true,
    "deletable": true,
    "editable": true
   },
   "outputs": [],
   "source": [
    "html_escape_table = {\n",
    "    \"&\": \"&amp;\",\n",
    "    '\"': \"&quot;\",\n",
    "    \"'\": \"&apos;\"\n",
    "}\n",
    "\n",
    "def html_escape(text):\n",
    "    \"\"\"Produce entities within text.\"\"\"\n",
    "    return \"\".join(html_escape_table.get(c, c) for c in text)"
   ]
  },
  {
   "cell_type": "markdown",
   "metadata": {},
   "source": [
    "## Creating the markdown files\n",
    "\n",
    "This is where the heavy lifting is done. This loops through all the rows in the TSV dataframe, then starts to concatentate a big string (```md```) that contains the markdown for each type. It does the YAML metadata first, then does the description for the individual page."
   ]
  },
  {
   "cell_type": "code",
   "execution_count": null,
   "metadata": {
    "collapsed": false,
    "deletable": true,
    "editable": true
   },
   "outputs": [],
   "source": [
    "for row, item in projects.iterrows():\n",
    "\n",
    "    # create a string url slug from the title\n",
    "    url_slug = str(item.title).replace(\" \", \"-\").lower()\n",
    "    url_slug = url_slug.replace(\"&\", \"and\")\n",
    "    url_slug = url_slug.replace(\"/\", \"-\")\n",
    "    url_slug = url_slug.replace(\"(\", \"\")\n",
    "    url_slug = url_slug.replace(\")\", \"\")\n",
    "    url_slug = url_slug.replace(\":\", \"\")\n",
    "    url_slug = url_slug.replace(\";\", \"\")\n",
    "    url_slug = url_slug.replace(\"?\", \"\")\n",
    "    url_slug = url_slug.replace(\"!\", \"\")\n",
    "    url_slug = url_slug.replace(\",\", \"\")\n",
    "    url_slug = url_slug.replace(\".\", \"\")\n",
    "    url_slug = url_slug.replace(\"=\", \"\")\n",
    "    url_slug = url_slug.replace(\"+\", \"\")\n",
    "\n",
    "    date_no_day = item.date[:8]\n",
    "    html_filename = str(item.date[:7]) + \"-\" + url_slug\n",
    "    md_filename = html_filename + \".md\"\n",
    "    year = item.date[:4]\n",
    "\n",
    "    # YAML variables\n",
    "\n",
    "    md = \"---\"\n",
    "\n",
    "    md += \"\\ndate: \" + str(item.date)\n",
    "\n",
    "    md += \"\\ntitle: \\\"\" + item.title + '\"\\n'\n",
    "\n",
    "    md += \"\"\"collection: projects\"\"\"\n",
    "\n",
    "    md += \"\"\"\\npermalink: /projects/\"\"\" + html_filename\n",
    "\n",
    "    if len(str(item.excerpt)) > 5:\n",
    "        md += \"\\nexcerpt: \\\"\" + html_escape(item.excerpt) + \"\\\"\"\n",
    "\n",
    "    md += \"\\nvenue: \\\"\" + html_escape(item.venue) + \"\\\"\"\n",
    "\n",
    "    md += \"\\nlast_modified_at: \" + \\\n",
    "        str(datetime.datetime.now().strftime(\"%Y-%m-%d %H:%M:%S\"))\n",
    "\n",
    "    md += \"\\n---\"\n",
    "\n",
    "    # Markdown description for individual page\n",
    "\n",
    "    md += \"\\n\\n### Skills\"\n",
    "    md += \"\\n\\n- skill 1\"\n",
    "    md += \"\\n- skill 2\"\n",
    "    md += \"\\n- skill 3\"\n",
    "    md += \"\\n\\n## Links\"\n",
    "    md += \"\\n\\n- [GitHub Repository](https://github.com/agopalareddy/<repository_name>)\"\n",
    "\n",
    "    md_filename = os.path.basename(md_filename)\n",
    "\n",
    "    with open(\"../_projects/\" + md_filename, 'w') as f:\n",
    "        f.write(md)"
   ]
  },
  {
   "cell_type": "markdown",
   "metadata": {},
   "source": [
    "These files are in the projects directory, one directory below where we're working from."
   ]
  },
  {
   "cell_type": "code",
   "execution_count": 9,
   "metadata": {
    "collapsed": false,
    "deletable": true,
    "editable": true
   },
   "outputs": [
    {
     "name": "stdout",
     "output_type": "stream",
     "text": [
      "2009-10-01-paper-title-number-1.md\n",
      "2010-10-01-paper-title-number-2.md\n",
      "2015-10-01-paper-title-number-3.md\n"
     ]
    }
   ],
   "source": [
    "!ls ../_projects/"
   ]
  },
  {
   "cell_type": "code",
   "execution_count": 10,
   "metadata": {
    "collapsed": false,
    "deletable": true,
    "editable": true
   },
   "outputs": [
    {
     "name": "stdout",
     "output_type": "stream",
     "text": [
      "---\n",
      "title: \"Paper Title Number 1\"\n",
      "collection: publications\n",
      "permalink: /publication/2009-10-01-paper-title-number-1\n",
      "excerpt: 'This paper is about the number 1. The number 2 is left for future work.'\n",
      "date: 2009-10-01\n",
      "venue: 'Journal 1'\n",
      "paperurl: 'https://academicpages.github.io/files/paper1.pdf'\n",
      "citation: 'Your Name, You. (2009). &quot;Paper Title Number 1.&quot; <i>Journal 1</i>. 1(1).'\n",
      "---\n",
      "This paper is about the number 1. The number 2 is left for future work.\n",
      "\n",
      "[Download paper here](https://academicpages.github.io/files/paper1.pdf)\n",
      "\n",
      "Recommended citation: Your Name, You. (2009). \"Paper Title Number 1.\" <i>Journal 1</i>. 1(1).\n"
     ]
    }
   ],
   "source": [
    "!cat ../_projects/2009-10-01-paper-title-number-1.md"
   ]
  },
  {
   "cell_type": "code",
   "execution_count": null,
   "metadata": {
    "collapsed": true,
    "deletable": true,
    "editable": true
   },
   "outputs": [],
   "source": []
  }
 ],
 "metadata": {
  "kernelspec": {
   "display_name": "Python 3",
   "language": "python",
   "name": "python3"
  },
  "language_info": {
   "codemirror_mode": {
    "name": "ipython",
    "version": 3
   },
   "file_extension": ".py",
   "mimetype": "text/x-python",
   "name": "python",
   "nbconvert_exporter": "python",
   "pygments_lexer": "ipython3",
   "version": "3.11.4"
  }
 },
 "nbformat": 4,
 "nbformat_minor": 0
}
